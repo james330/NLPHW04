{
  "nbformat": 4,
  "nbformat_minor": 0,
  "metadata": {
    "colab": {
      "name": "NLPHW04.ipynb",
      "provenance": [],
      "collapsed_sections": [],
      "mount_file_id": "1DRJOwotL3UFOQRi0ou72nGknqsr8PYvy",
      "authorship_tag": "ABX9TyNR53fR+Q1jDqAKOxT2FrH9",
      "include_colab_link": true
    },
    "kernelspec": {
      "name": "python3",
      "display_name": "Python 3"
    },
    "language_info": {
      "name": "python"
    }
  },
  "cells": [
    {
      "cell_type": "markdown",
      "metadata": {
        "id": "view-in-github",
        "colab_type": "text"
      },
      "source": [
        "<a href=\"https://colab.research.google.com/github/james330/NLPHW04/blob/main/NLPHW04.ipynb\" target=\"_parent\"><img src=\"https://colab.research.google.com/assets/colab-badge.svg\" alt=\"Open In Colab\"/></a>"
      ]
    },
    {
      "cell_type": "code",
      "metadata": {
        "colab": {
          "base_uri": "https://localhost:8080/"
        },
        "id": "Wu8Dgj1qUdsl",
        "outputId": "99a291db-8dab-4588-8898-1acb415857b2"
      },
      "source": [
        "pip install word2vec"
      ],
      "execution_count": 1,
      "outputs": [
        {
          "output_type": "stream",
          "text": [
            "Collecting word2vec\n",
            "  Downloading word2vec-0.11.1.tar.gz (42 kB)\n",
            "\u001b[?25l\r\u001b[K     |███████▊                        | 10 kB 26.2 MB/s eta 0:00:01\r\u001b[K     |███████████████▌                | 20 kB 33.1 MB/s eta 0:00:01\r\u001b[K     |███████████████████████▎        | 30 kB 36.2 MB/s eta 0:00:01\r\u001b[K     |███████████████████████████████ | 40 kB 24.6 MB/s eta 0:00:01\r\u001b[K     |████████████████████████████████| 42 kB 863 kB/s \n",
            "\u001b[?25h  Installing build dependencies ... \u001b[?25l\u001b[?25hdone\n",
            "  Getting requirements to build wheel ... \u001b[?25l\u001b[?25hdone\n",
            "    Preparing wheel metadata ... \u001b[?25l\u001b[?25hdone\n",
            "Requirement already satisfied: numpy>=1.9.2 in /usr/local/lib/python3.7/dist-packages (from word2vec) (1.19.5)\n",
            "Requirement already satisfied: joblib in /usr/local/lib/python3.7/dist-packages (from word2vec) (1.0.1)\n",
            "Building wheels for collected packages: word2vec\n",
            "  Building wheel for word2vec (PEP 517) ... \u001b[?25l\u001b[?25hdone\n",
            "  Created wheel for word2vec: filename=word2vec-0.11.1-py2.py3-none-any.whl size=164793 sha256=8abec2a193bb9d3127db6fa37a7a9f3aab433e6a25bebc80e098ce6f2affbedf\n",
            "  Stored in directory: /root/.cache/pip/wheels/c9/c0/d4/29d797817e268124a32b6cf8beb8b8fe87b86f099d5a049e61\n",
            "Successfully built word2vec\n",
            "Installing collected packages: word2vec\n",
            "Successfully installed word2vec-0.11.1\n"
          ],
          "name": "stdout"
        }
      ]
    },
    {
      "cell_type": "code",
      "metadata": {
        "colab": {
          "base_uri": "https://localhost:8080/"
        },
        "id": "GWotYxG4rNeO",
        "outputId": "675cba4a-3496-4c82-ad1d-98348b63eda2"
      },
      "source": [
        "pip install opencc-python-reimplemented"
      ],
      "execution_count": 2,
      "outputs": [
        {
          "output_type": "stream",
          "text": [
            "Collecting opencc-python-reimplemented\n",
            "  Downloading opencc-python-reimplemented-0.1.6.tar.gz (484 kB)\n",
            "\u001b[?25l\r\u001b[K     |▊                               | 10 kB 23.7 MB/s eta 0:00:01\r\u001b[K     |█▍                              | 20 kB 28.5 MB/s eta 0:00:01\r\u001b[K     |██                              | 30 kB 27.4 MB/s eta 0:00:01\r\u001b[K     |██▊                             | 40 kB 21.8 MB/s eta 0:00:01\r\u001b[K     |███▍                            | 51 kB 19.7 MB/s eta 0:00:01\r\u001b[K     |████                            | 61 kB 14.1 MB/s eta 0:00:01\r\u001b[K     |████▊                           | 71 kB 14.4 MB/s eta 0:00:01\r\u001b[K     |█████▍                          | 81 kB 15.8 MB/s eta 0:00:01\r\u001b[K     |██████                          | 92 kB 16.4 MB/s eta 0:00:01\r\u001b[K     |██████▊                         | 102 kB 15.8 MB/s eta 0:00:01\r\u001b[K     |███████▍                        | 112 kB 15.8 MB/s eta 0:00:01\r\u001b[K     |████████▏                       | 122 kB 15.8 MB/s eta 0:00:01\r\u001b[K     |████████▉                       | 133 kB 15.8 MB/s eta 0:00:01\r\u001b[K     |█████████▌                      | 143 kB 15.8 MB/s eta 0:00:01\r\u001b[K     |██████████▏                     | 153 kB 15.8 MB/s eta 0:00:01\r\u001b[K     |██████████▉                     | 163 kB 15.8 MB/s eta 0:00:01\r\u001b[K     |███████████▌                    | 174 kB 15.8 MB/s eta 0:00:01\r\u001b[K     |████████████▏                   | 184 kB 15.8 MB/s eta 0:00:01\r\u001b[K     |████████████▉                   | 194 kB 15.8 MB/s eta 0:00:01\r\u001b[K     |█████████████▌                  | 204 kB 15.8 MB/s eta 0:00:01\r\u001b[K     |██████████████▏                 | 215 kB 15.8 MB/s eta 0:00:01\r\u001b[K     |██████████████▉                 | 225 kB 15.8 MB/s eta 0:00:01\r\u001b[K     |███████████████▌                | 235 kB 15.8 MB/s eta 0:00:01\r\u001b[K     |████████████████▎               | 245 kB 15.8 MB/s eta 0:00:01\r\u001b[K     |█████████████████               | 256 kB 15.8 MB/s eta 0:00:01\r\u001b[K     |█████████████████▋              | 266 kB 15.8 MB/s eta 0:00:01\r\u001b[K     |██████████████████▎             | 276 kB 15.8 MB/s eta 0:00:01\r\u001b[K     |███████████████████             | 286 kB 15.8 MB/s eta 0:00:01\r\u001b[K     |███████████████████▋            | 296 kB 15.8 MB/s eta 0:00:01\r\u001b[K     |████████████████████▎           | 307 kB 15.8 MB/s eta 0:00:01\r\u001b[K     |█████████████████████           | 317 kB 15.8 MB/s eta 0:00:01\r\u001b[K     |█████████████████████▋          | 327 kB 15.8 MB/s eta 0:00:01\r\u001b[K     |██████████████████████▎         | 337 kB 15.8 MB/s eta 0:00:01\r\u001b[K     |███████████████████████         | 348 kB 15.8 MB/s eta 0:00:01\r\u001b[K     |███████████████████████▊        | 358 kB 15.8 MB/s eta 0:00:01\r\u001b[K     |████████████████████████▍       | 368 kB 15.8 MB/s eta 0:00:01\r\u001b[K     |█████████████████████████       | 378 kB 15.8 MB/s eta 0:00:01\r\u001b[K     |█████████████████████████▊      | 389 kB 15.8 MB/s eta 0:00:01\r\u001b[K     |██████████████████████████▍     | 399 kB 15.8 MB/s eta 0:00:01\r\u001b[K     |███████████████████████████     | 409 kB 15.8 MB/s eta 0:00:01\r\u001b[K     |███████████████████████████▊    | 419 kB 15.8 MB/s eta 0:00:01\r\u001b[K     |████████████████████████████▍   | 430 kB 15.8 MB/s eta 0:00:01\r\u001b[K     |█████████████████████████████   | 440 kB 15.8 MB/s eta 0:00:01\r\u001b[K     |█████████████████████████████▊  | 450 kB 15.8 MB/s eta 0:00:01\r\u001b[K     |██████████████████████████████▍ | 460 kB 15.8 MB/s eta 0:00:01\r\u001b[K     |███████████████████████████████ | 471 kB 15.8 MB/s eta 0:00:01\r\u001b[K     |███████████████████████████████▉| 481 kB 15.8 MB/s eta 0:00:01\r\u001b[K     |████████████████████████████████| 484 kB 15.8 MB/s \n",
            "\u001b[?25hBuilding wheels for collected packages: opencc-python-reimplemented\n",
            "  Building wheel for opencc-python-reimplemented (setup.py) ... \u001b[?25l\u001b[?25hdone\n",
            "  Created wheel for opencc-python-reimplemented: filename=opencc_python_reimplemented-0.1.6-py2.py3-none-any.whl size=486150 sha256=b09e52f955a38af9696e76b923314000bfa619181c1e520a134d4947d46c424b\n",
            "  Stored in directory: /root/.cache/pip/wheels/4e/e2/60/d062d260be08788bb389521544a8fc173de9a9a78d6a593344\n",
            "Successfully built opencc-python-reimplemented\n",
            "Installing collected packages: opencc-python-reimplemented\n",
            "Successfully installed opencc-python-reimplemented-0.1.6\n"
          ],
          "name": "stdout"
        }
      ]
    },
    {
      "cell_type": "code",
      "metadata": {
        "colab": {
          "base_uri": "https://localhost:8080/"
        },
        "id": "yjYPEwrBz_UR",
        "outputId": "f20434e9-c701-431c-94fd-7fa944f7dcdf"
      },
      "source": [
        "pip install jieba"
      ],
      "execution_count": 3,
      "outputs": [
        {
          "output_type": "stream",
          "text": [
            "Requirement already satisfied: jieba in /usr/local/lib/python3.7/dist-packages (0.42.1)\n"
          ],
          "name": "stdout"
        }
      ]
    },
    {
      "cell_type": "code",
      "metadata": {
        "id": "WAZ0NjjFVB6y"
      },
      "source": [
        "import jieba\n",
        "import zipfile as zf\n",
        "import json\n",
        "from opencc import OpenCC\n",
        "import pandas as pd\n",
        "from gensim.models.word2vec import Word2Vec"
      ],
      "execution_count": 4,
      "outputs": []
    },
    {
      "cell_type": "code",
      "metadata": {
        "id": "_QB5ZEBruvmn"
      },
      "source": [
        "# 幫助wikiLoad，將數字轉成對應的英文字母\n",
        "def via_decode(via):\n",
        "  if via == 0:\n",
        "    return 'AA'\n",
        "  elif via == 1:\n",
        "    return 'AB'\n",
        "  elif via == 2:\n",
        "    return 'AC'\n",
        "  elif via == 3:\n",
        "    return 'AD'\n",
        "  elif via == 4:\n",
        "    return 'AE'\n",
        "  elif via == 5:\n",
        "    return 'AF'\n",
        "  elif via == 6:\n",
        "    return 'AG'\n",
        "  elif via == 7:\n",
        "    return 'AH'\n",
        "  elif via == 8:\n",
        "    return 'AI'\n",
        "  elif via == 9:\n",
        "    return 'AJ'\n",
        "  elif via == 10:\n",
        "    return 'AK'\n",
        "  elif via == 11:\n",
        "    return 'AL'\n",
        "  elif via == 12:\n",
        "    return 'AM'  "
      ],
      "execution_count": 5,
      "outputs": []
    },
    {
      "cell_type": "code",
      "metadata": {
        "id": "fc9Cuh3x3gN0"
      },
      "source": [
        "# 幫助wikiLoad，將數字轉成對應的字串\n",
        "def num_decode(num):\n",
        "  if num < 10:\n",
        "    return '0'+ str(num)\n",
        "  else:\n",
        "    return str(num)"
      ],
      "execution_count": 6,
      "outputs": []
    },
    {
      "cell_type": "code",
      "metadata": {
        "id": "Y3o2xlcouMKD"
      },
      "source": [
        "# 寫一個函式，用來讀取檔案\n",
        "def wikiLoad(via ,num): #資料夾，與檔案編號\n",
        "  f = open('./drive/MyDrive/Colab Notebooks/wiki_zh/'+ via_decode(via) +'/wiki_'+ num_decode(num) ,'r')\n",
        "  return f"
      ],
      "execution_count": 7,
      "outputs": []
    },
    {
      "cell_type": "code",
      "metadata": {
        "id": "rGhi8N3TG-4A"
      },
      "source": [
        "# ?\n",
        "def most_similar(w2v_model, words, topn=20):\n",
        "  similar_df = pd.DataFrame()\n",
        "  for word in words:\n",
        "      try:\n",
        "          similar_words = pd.DataFrame(w2v_model.wv.most_similar(word, topn=topn), columns=[word, 'cos'])\n",
        "          similar_df = pd.concat([similar_df, similar_words], axis=1)\n",
        "      except:\n",
        "          print(word, \"not found in Word2Vec model!\")\n",
        "  return similar_df"
      ],
      "execution_count": 8,
      "outputs": []
    },
    {
      "cell_type": "code",
      "metadata": {
        "id": "bUfUrqajBokk"
      },
      "source": [
        "# 變數設置\n",
        "# !!!! 切記 這別不小心按到，以前的紀錄會被消失 !!!!\n",
        "\n",
        "la = []\n",
        "j = []"
      ],
      "execution_count": 9,
      "outputs": []
    },
    {
      "cell_type": "code",
      "metadata": {
        "colab": {
          "base_uri": "https://localhost:8080/"
        },
        "id": "hBWjkSuR2D9E",
        "outputId": "49e4fb0a-2379-4670-e109-652efae34697"
      },
      "source": [
        "# main(1)\n",
        "# 流程: 讀檔->轉成繁體->分詞->塞入模型\n",
        "\n",
        "via = 0\n",
        "num = 0\n",
        "while via < 6: #這邊先將資料變成一個二維陣列 ，QQ RAM不夠，就先只弄0~5共600筆資料\n",
        "  if num == 99:  \n",
        "    f = wikiLoad(via ,num)  #讀檔\n",
        "    cc = OpenCC('s2tw') #簡體轉台灣繁體\n",
        "    file = cc.convert(f.read()) \n",
        "    j = jieba.lcut(file ,cut_all=False) #分詞\n",
        "    la.append(j)\n",
        "    num = 0\n",
        "    via += 1\n",
        "    f.close()\n",
        "  else:\n",
        "    f = wikiLoad(via ,num)  #讀檔\n",
        "    cc = OpenCC('s2tw') #簡體轉台灣繁體\n",
        "    file = cc.convert(f.read())\n",
        "    j = jieba.lcut(file ,cut_all=False) #分詞\n",
        "    la.append(j)\n",
        "    num += 1\n",
        "    j = []\n",
        "    f.close()"
      ],
      "execution_count": 12,
      "outputs": [
        {
          "output_type": "stream",
          "text": [
            "Building prefix dict from the default dictionary ...\n",
            "Dumping model to file cache /tmp/jieba.cache\n",
            "Loading model cost 1.038 seconds.\n",
            "Prefix dict has been built successfully.\n"
          ],
          "name": "stderr"
        }
      ]
    },
    {
      "cell_type": "code",
      "metadata": {
        "id": "L5sDept791eS"
      },
      "source": [
        "# main(2)\n",
        "# 這邊開始來訓練模型\n",
        "model = Word2Vec(la)\n",
        "model.save('word2vec.model')"
      ],
      "execution_count": 14,
      "outputs": []
    },
    {
      "cell_type": "code",
      "metadata": {
        "id": "V1ZQQaDGWjk8",
        "colab": {
          "base_uri": "https://localhost:8080/"
        },
        "outputId": "c7d05c34-523f-4f11-bf49-282505b8658d"
      },
      "source": [
        "\n",
        "len(la)\n"
      ],
      "execution_count": 13,
      "outputs": [
        {
          "output_type": "execute_result",
          "data": {
            "text/plain": [
              "600"
            ]
          },
          "metadata": {},
          "execution_count": 13
        }
      ]
    },
    {
      "cell_type": "code",
      "metadata": {
        "colab": {
          "base_uri": "https://localhost:8080/",
          "height": 669
        },
        "id": "HDCmqAjD8AWv",
        "outputId": "4803b81c-552d-4232-9703-27fdf5ad3f1d"
      },
      "source": [
        "most_similar(model,['孔子' ,'老子' ,'天空' ,'科學' ,'神學'])"
      ],
      "execution_count": 21,
      "outputs": [
        {
          "output_type": "execute_result",
          "data": {
            "text/html": [
              "<div>\n",
              "<style scoped>\n",
              "    .dataframe tbody tr th:only-of-type {\n",
              "        vertical-align: middle;\n",
              "    }\n",
              "\n",
              "    .dataframe tbody tr th {\n",
              "        vertical-align: top;\n",
              "    }\n",
              "\n",
              "    .dataframe thead th {\n",
              "        text-align: right;\n",
              "    }\n",
              "</style>\n",
              "<table border=\"1\" class=\"dataframe\">\n",
              "  <thead>\n",
              "    <tr style=\"text-align: right;\">\n",
              "      <th></th>\n",
              "      <th>孔子</th>\n",
              "      <th>cos</th>\n",
              "      <th>老子</th>\n",
              "      <th>cos</th>\n",
              "      <th>天空</th>\n",
              "      <th>cos</th>\n",
              "      <th>科學</th>\n",
              "      <th>cos</th>\n",
              "      <th>神學</th>\n",
              "      <th>cos</th>\n",
              "    </tr>\n",
              "  </thead>\n",
              "  <tbody>\n",
              "    <tr>\n",
              "      <th>0</th>\n",
              "      <td>唐代</td>\n",
              "      <td>0.858850</td>\n",
              "      <td>道家</td>\n",
              "      <td>0.895944</td>\n",
              "      <td>陰影</td>\n",
              "      <td>0.831244</td>\n",
              "      <td>醫學</td>\n",
              "      <td>0.900135</td>\n",
              "      <td>哲學</td>\n",
              "      <td>0.913575</td>\n",
              "    </tr>\n",
              "    <tr>\n",
              "      <th>1</th>\n",
              "      <td>道教</td>\n",
              "      <td>0.850115</td>\n",
              "      <td>儒家</td>\n",
              "      <td>0.882532</td>\n",
              "      <td>夜晚</td>\n",
              "      <td>0.817928</td>\n",
              "      <td>學術</td>\n",
              "      <td>0.880507</td>\n",
              "      <td>宗教</td>\n",
              "      <td>0.870986</td>\n",
              "    </tr>\n",
              "    <tr>\n",
              "      <th>2</th>\n",
              "      <td>道家</td>\n",
              "      <td>0.849731</td>\n",
              "      <td>人性</td>\n",
              "      <td>0.881914</td>\n",
              "      <td>軀體</td>\n",
              "      <td>0.814043</td>\n",
              "      <td>經濟學</td>\n",
              "      <td>0.873886</td>\n",
              "      <td>思想</td>\n",
              "      <td>0.854674</td>\n",
              "    </tr>\n",
              "    <tr>\n",
              "      <th>3</th>\n",
              "      <td>媧</td>\n",
              "      <td>0.848007</td>\n",
              "      <td>經學</td>\n",
              "      <td>0.880669</td>\n",
              "      <td>日子</td>\n",
              "      <td>0.812043</td>\n",
              "      <td>心理</td>\n",
              "      <td>0.837298</td>\n",
              "      <td>理性</td>\n",
              "      <td>0.852897</td>\n",
              "    </tr>\n",
              "    <tr>\n",
              "      <th>4</th>\n",
              "      <td>墓誌</td>\n",
              "      <td>0.841128</td>\n",
              "      <td>學說</td>\n",
              "      <td>0.874499</td>\n",
              "      <td>夜空</td>\n",
              "      <td>0.810863</td>\n",
              "      <td>人文</td>\n",
              "      <td>0.836648</td>\n",
              "      <td>價值觀</td>\n",
              "      <td>0.850927</td>\n",
              "    </tr>\n",
              "    <tr>\n",
              "      <th>5</th>\n",
              "      <td>教坊</td>\n",
              "      <td>0.839749</td>\n",
              "      <td>學問</td>\n",
              "      <td>0.870600</td>\n",
              "      <td>超新星</td>\n",
              "      <td>0.806722</td>\n",
              "      <td>哲學</td>\n",
              "      <td>0.830282</td>\n",
              "      <td>心理</td>\n",
              "      <td>0.849043</td>\n",
              "    </tr>\n",
              "    <tr>\n",
              "      <th>6</th>\n",
              "      <td>相傳</td>\n",
              "      <td>0.837651</td>\n",
              "      <td>迷信</td>\n",
              "      <td>0.865461</td>\n",
              "      <td>靜止</td>\n",
              "      <td>0.806510</td>\n",
              "      <td>實踐</td>\n",
              "      <td>0.821722</td>\n",
              "      <td>女權</td>\n",
              "      <td>0.846640</td>\n",
              "    </tr>\n",
              "    <tr>\n",
              "      <th>7</th>\n",
              "      <td>弟子</td>\n",
              "      <td>0.834821</td>\n",
              "      <td>經文</td>\n",
              "      <td>0.860970</td>\n",
              "      <td>場面</td>\n",
              "      <td>0.804639</td>\n",
              "      <td>領域</td>\n",
              "      <td>0.817868</td>\n",
              "      <td>世俗</td>\n",
              "      <td>0.845044</td>\n",
              "    </tr>\n",
              "    <tr>\n",
              "      <th>8</th>\n",
              "      <td>法家</td>\n",
              "      <td>0.834507</td>\n",
              "      <td>莊子</td>\n",
              "      <td>0.858488</td>\n",
              "      <td>球體</td>\n",
              "      <td>0.803653</td>\n",
              "      <td>知識</td>\n",
              "      <td>0.816208</td>\n",
              "      <td>學說</td>\n",
              "      <td>0.845034</td>\n",
              "    </tr>\n",
              "    <tr>\n",
              "      <th>9</th>\n",
              "      <td>朱熹</td>\n",
              "      <td>0.833660</td>\n",
              "      <td>五行</td>\n",
              "      <td>0.856155</td>\n",
              "      <td>星星</td>\n",
              "      <td>0.800027</td>\n",
              "      <td>自然科</td>\n",
              "      <td>0.812620</td>\n",
              "      <td>觀念</td>\n",
              "      <td>0.837847</td>\n",
              "    </tr>\n",
              "    <tr>\n",
              "      <th>10</th>\n",
              "      <td>佛典</td>\n",
              "      <td>0.830307</td>\n",
              "      <td>論述</td>\n",
              "      <td>0.853383</td>\n",
              "      <td>流星雨</td>\n",
              "      <td>0.796981</td>\n",
              "      <td>數學</td>\n",
              "      <td>0.811898</td>\n",
              "      <td>信仰</td>\n",
              "      <td>0.830585</td>\n",
              "    </tr>\n",
              "    <tr>\n",
              "      <th>11</th>\n",
              "      <td>名家</td>\n",
              "      <td>0.826119</td>\n",
              "      <td>闡釋</td>\n",
              "      <td>0.851660</td>\n",
              "      <td>光源</td>\n",
              "      <td>0.796051</td>\n",
              "      <td>社會學</td>\n",
              "      <td>0.809527</td>\n",
              "      <td>主義的</td>\n",
              "      <td>0.829937</td>\n",
              "    </tr>\n",
              "    <tr>\n",
              "      <th>12</th>\n",
              "      <td>大乘</td>\n",
              "      <td>0.820777</td>\n",
              "      <td>反諷</td>\n",
              "      <td>0.845398</td>\n",
              "      <td>車輪</td>\n",
              "      <td>0.795941</td>\n",
              "      <td>學及</td>\n",
              "      <td>0.809054</td>\n",
              "      <td>精神</td>\n",
              "      <td>0.829574</td>\n",
              "    </tr>\n",
              "    <tr>\n",
              "      <th>13</th>\n",
              "      <td>雜劇</td>\n",
              "      <td>0.817974</td>\n",
              "      <td>理性</td>\n",
              "      <td>0.845329</td>\n",
              "      <td>黑子</td>\n",
              "      <td>0.795826</td>\n",
              "      <td>研究</td>\n",
              "      <td>0.808394</td>\n",
              "      <td>經濟學</td>\n",
              "      <td>0.827362</td>\n",
              "    </tr>\n",
              "    <tr>\n",
              "      <th>14</th>\n",
              "      <td>禪宗</td>\n",
              "      <td>0.815406</td>\n",
              "      <td>黑暗</td>\n",
              "      <td>0.844997</td>\n",
              "      <td>屏幕</td>\n",
              "      <td>0.795085</td>\n",
              "      <td>技術</td>\n",
              "      <td>0.807120</td>\n",
              "      <td>權威</td>\n",
              "      <td>0.827328</td>\n",
              "    </tr>\n",
              "    <tr>\n",
              "      <th>15</th>\n",
              "      <td>宋代</td>\n",
              "      <td>0.813884</td>\n",
              "      <td>西王母</td>\n",
              "      <td>0.844986</td>\n",
              "      <td>黑暗</td>\n",
              "      <td>0.794448</td>\n",
              "      <td>創新</td>\n",
              "      <td>0.805981</td>\n",
              "      <td>古希臘</td>\n",
              "      <td>0.824251</td>\n",
              "    </tr>\n",
              "    <tr>\n",
              "      <th>16</th>\n",
              "      <td>文武</td>\n",
              "      <td>0.813126</td>\n",
              "      <td>師法</td>\n",
              "      <td>0.844788</td>\n",
              "      <td>手臂</td>\n",
              "      <td>0.792404</td>\n",
              "      <td>學科</td>\n",
              "      <td>0.805951</td>\n",
              "      <td>道德</td>\n",
              "      <td>0.823671</td>\n",
              "    </tr>\n",
              "    <tr>\n",
              "      <th>17</th>\n",
              "      <td>儒家</td>\n",
              "      <td>0.813015</td>\n",
              "      <td>古人</td>\n",
              "      <td>0.844769</td>\n",
              "      <td>胖丁</td>\n",
              "      <td>0.791978</td>\n",
              "      <td>實驗室</td>\n",
              "      <td>0.803350</td>\n",
              "      <td>儒家</td>\n",
              "      <td>0.822246</td>\n",
              "    </tr>\n",
              "    <tr>\n",
              "      <th>18</th>\n",
              "      <td>詞人</td>\n",
              "      <td>0.812419</td>\n",
              "      <td>信念</td>\n",
              "      <td>0.843329</td>\n",
              "      <td>流星</td>\n",
              "      <td>0.790201</td>\n",
              "      <td>邏輯學</td>\n",
              "      <td>0.797817</td>\n",
              "      <td>學界</td>\n",
              "      <td>0.817160</td>\n",
              "    </tr>\n",
              "    <tr>\n",
              "      <th>19</th>\n",
              "      <td>歐陽修</td>\n",
              "      <td>0.812288</td>\n",
              "      <td>印度教</td>\n",
              "      <td>0.841530</td>\n",
              "      <td>月食</td>\n",
              "      <td>0.790164</td>\n",
              "      <td>分子生物</td>\n",
              "      <td>0.796336</td>\n",
              "      <td>倫理</td>\n",
              "      <td>0.817069</td>\n",
              "    </tr>\n",
              "  </tbody>\n",
              "</table>\n",
              "</div>"
            ],
            "text/plain": [
              "     孔子       cos   老子       cos   天空       cos    科學       cos   神學       cos\n",
              "0    唐代  0.858850   道家  0.895944   陰影  0.831244    醫學  0.900135   哲學  0.913575\n",
              "1    道教  0.850115   儒家  0.882532   夜晚  0.817928    學術  0.880507   宗教  0.870986\n",
              "2    道家  0.849731   人性  0.881914   軀體  0.814043   經濟學  0.873886   思想  0.854674\n",
              "3     媧  0.848007   經學  0.880669   日子  0.812043    心理  0.837298   理性  0.852897\n",
              "4    墓誌  0.841128   學說  0.874499   夜空  0.810863    人文  0.836648  價值觀  0.850927\n",
              "5    教坊  0.839749   學問  0.870600  超新星  0.806722    哲學  0.830282   心理  0.849043\n",
              "6    相傳  0.837651   迷信  0.865461   靜止  0.806510    實踐  0.821722   女權  0.846640\n",
              "7    弟子  0.834821   經文  0.860970   場面  0.804639    領域  0.817868   世俗  0.845044\n",
              "8    法家  0.834507   莊子  0.858488   球體  0.803653    知識  0.816208   學說  0.845034\n",
              "9    朱熹  0.833660   五行  0.856155   星星  0.800027   自然科  0.812620   觀念  0.837847\n",
              "10   佛典  0.830307   論述  0.853383  流星雨  0.796981    數學  0.811898   信仰  0.830585\n",
              "11   名家  0.826119   闡釋  0.851660   光源  0.796051   社會學  0.809527  主義的  0.829937\n",
              "12   大乘  0.820777   反諷  0.845398   車輪  0.795941    學及  0.809054   精神  0.829574\n",
              "13   雜劇  0.817974   理性  0.845329   黑子  0.795826    研究  0.808394  經濟學  0.827362\n",
              "14   禪宗  0.815406   黑暗  0.844997   屏幕  0.795085    技術  0.807120   權威  0.827328\n",
              "15   宋代  0.813884  西王母  0.844986   黑暗  0.794448    創新  0.805981  古希臘  0.824251\n",
              "16   文武  0.813126   師法  0.844788   手臂  0.792404    學科  0.805951   道德  0.823671\n",
              "17   儒家  0.813015   古人  0.844769   胖丁  0.791978   實驗室  0.803350   儒家  0.822246\n",
              "18   詞人  0.812419   信念  0.843329   流星  0.790201   邏輯學  0.797817   學界  0.817160\n",
              "19  歐陽修  0.812288  印度教  0.841530   月食  0.790164  分子生物  0.796336   倫理  0.817069"
            ]
          },
          "metadata": {},
          "execution_count": 21
        }
      ]
    }
  ]
}