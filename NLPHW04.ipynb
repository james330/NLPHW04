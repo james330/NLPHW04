{
  "nbformat": 4,
  "nbformat_minor": 0,
  "metadata": {
    "colab": {
      "name": "NLPHW04.ipynb",
      "provenance": [],
      "collapsed_sections": [],
      "mount_file_id": "1DRJOwotL3UFOQRi0ou72nGknqsr8PYvy",
      "authorship_tag": "ABX9TyO51RhMkNjWIJyECeqAjKvW",
      "include_colab_link": true
    },
    "kernelspec": {
      "name": "python3",
      "display_name": "Python 3"
    },
    "language_info": {
      "name": "python"
    }
  },
  "cells": [
    {
      "cell_type": "markdown",
      "metadata": {
        "id": "view-in-github",
        "colab_type": "text"
      },
      "source": [
        "<a href=\"https://colab.research.google.com/github/james330/NLPHW04/blob/main/NLPHW04.ipynb\" target=\"_parent\"><img src=\"https://colab.research.google.com/assets/colab-badge.svg\" alt=\"Open In Colab\"/></a>"
      ]
    },
    {
      "cell_type": "code",
      "metadata": {
        "colab": {
          "base_uri": "https://localhost:8080/"
        },
        "id": "Wu8Dgj1qUdsl",
        "outputId": "b82dd9c9-c91d-48a3-d4b4-3e2213265e15"
      },
      "source": [
        "pip install word2vec"
      ],
      "execution_count": 1,
      "outputs": [
        {
          "output_type": "stream",
          "text": [
            "Requirement already satisfied: word2vec in /usr/local/lib/python3.7/dist-packages (0.11.1)\n",
            "Requirement already satisfied: numpy>=1.9.2 in /usr/local/lib/python3.7/dist-packages (from word2vec) (1.19.5)\n",
            "Requirement already satisfied: joblib in /usr/local/lib/python3.7/dist-packages (from word2vec) (1.0.1)\n"
          ],
          "name": "stdout"
        }
      ]
    },
    {
      "cell_type": "code",
      "metadata": {
        "colab": {
          "base_uri": "https://localhost:8080/"
        },
        "id": "GWotYxG4rNeO",
        "outputId": "4b4af231-c693-4fea-fb61-81b2f3b5acdc"
      },
      "source": [
        "pip install opencc-python-reimplemented"
      ],
      "execution_count": 2,
      "outputs": [
        {
          "output_type": "stream",
          "text": [
            "Requirement already satisfied: opencc-python-reimplemented in /usr/local/lib/python3.7/dist-packages (0.1.6)\n"
          ],
          "name": "stdout"
        }
      ]
    },
    {
      "cell_type": "code",
      "metadata": {
        "colab": {
          "base_uri": "https://localhost:8080/"
        },
        "id": "yjYPEwrBz_UR",
        "outputId": "2e88b4d3-c0a7-43c8-e1f4-47a70200e631"
      },
      "source": [
        "pip install jieba"
      ],
      "execution_count": 3,
      "outputs": [
        {
          "output_type": "stream",
          "text": [
            "Requirement already satisfied: jieba in /usr/local/lib/python3.7/dist-packages (0.42.1)\n"
          ],
          "name": "stdout"
        }
      ]
    },
    {
      "cell_type": "code",
      "metadata": {
        "id": "WAZ0NjjFVB6y"
      },
      "source": [
        "import jieba\n",
        "import zipfile as zf\n",
        "import json\n",
        "from opencc import OpenCC\n",
        "import pandas as pd\n",
        "from gensim.models.word2vec import Word2Vec"
      ],
      "execution_count": 4,
      "outputs": []
    },
    {
      "cell_type": "code",
      "metadata": {
        "id": "_QB5ZEBruvmn"
      },
      "source": [
        "# 幫助wikiLoad，將數字轉成對應的英文字母\n",
        "def via_decode(via):\n",
        "  if via == 0:\n",
        "    return 'AA'\n",
        "  elif via == 1:\n",
        "    return 'AB'\n",
        "  elif via == 2:\n",
        "    return 'AC'\n",
        "  elif via == 3:\n",
        "    return 'AD'\n",
        "  elif via == 4:\n",
        "    return 'AE'\n",
        "  elif via == 5:\n",
        "    return 'AF'\n",
        "  elif via == 6:\n",
        "    return 'AG'\n",
        "  elif via == 7:\n",
        "    return 'AH'\n",
        "  elif via == 8:\n",
        "    return 'AI'\n",
        "  elif via == 9:\n",
        "    return 'AJ'\n",
        "  elif via == 10:\n",
        "    return 'AK'\n",
        "  elif via == 11:\n",
        "    return 'AL'\n",
        "  elif via == 12:\n",
        "    return 'AM'  "
      ],
      "execution_count": 5,
      "outputs": []
    },
    {
      "cell_type": "code",
      "metadata": {
        "id": "fc9Cuh3x3gN0"
      },
      "source": [
        "# 幫助wikiLoad，將數字轉成對應的字串\n",
        "def num_decode(num):\n",
        "  if num < 10:\n",
        "    return '0'+ str(num)\n",
        "  else:\n",
        "    return str(num)"
      ],
      "execution_count": 6,
      "outputs": []
    },
    {
      "cell_type": "code",
      "metadata": {
        "id": "Y3o2xlcouMKD"
      },
      "source": [
        "# 寫一個函式，用來讀取檔案\n",
        "def wikiLoad(via ,num): #資料夾，與檔案編號\n",
        "  f = open('./drive/MyDrive/Colab Notebooks/wiki_zh/'+ via_decode(via) +'/wiki_'+ num_decode(num) ,'r')\n",
        "  return f"
      ],
      "execution_count": 7,
      "outputs": []
    },
    {
      "cell_type": "code",
      "metadata": {
        "id": "rGhi8N3TG-4A"
      },
      "source": [
        "# ?\n",
        "def most_similar(w2v_model, words, topn=10):\n",
        "  similar_df = pd.DataFrame()\n",
        "  for word in words:\n",
        "      try:\n",
        "          similar_words = pd.DataFrame(w2v_model.wv.most_similar(word, topn=topn), columns=[word, 'cos'])\n",
        "          similar_df = pd.concat([similar_df, similar_words], axis=1)\n",
        "      except:\n",
        "          print(word, \"not found in Word2Vec model!\")\n",
        "  return similar_df"
      ],
      "execution_count": 19,
      "outputs": []
    },
    {
      "cell_type": "code",
      "metadata": {
        "id": "bUfUrqajBokk"
      },
      "source": [
        "# 變數設置\n",
        "# !!!! 切記 這別不小心按到，以前的紀錄會被消失 !!!!\n",
        "via = 0\n",
        "num = 0\n",
        "la = []\n",
        "j = []"
      ],
      "execution_count": 14,
      "outputs": []
    },
    {
      "cell_type": "code",
      "metadata": {
        "id": "hBWjkSuR2D9E"
      },
      "source": [
        "# main(1)\n",
        "# 流程: 讀檔->轉成繁體->分詞->塞入模型\n",
        "\n",
        "while via < 1: #這邊先將資料變成一個二維陣列 \n",
        "  if num == 99:  \n",
        "    f = wikiLoad(via ,num)  #讀檔\n",
        "    cc = OpenCC('s2tw') #簡體轉台灣繁體\n",
        "    file = cc.convert(f.read()) \n",
        "    j = jieba.lcut(file ,cut_all=False) #分詞\n",
        "    la.append(j)\n",
        "    num = 0\n",
        "    via += 1\n",
        "  else:\n",
        "    f = wikiLoad(via ,num)  #讀檔\n",
        "    cc = OpenCC('s2tw') #簡體轉台灣繁體\n",
        "    file = cc.convert(f.read())\n",
        "    j = jieba.lcut(file ,cut_all=False) #分詞\n",
        "    la.append(j)\n",
        "    num += 1\n",
        " "
      ],
      "execution_count": 17,
      "outputs": []
    },
    {
      "cell_type": "code",
      "metadata": {
        "id": "L5sDept791eS"
      },
      "source": [
        "# main(2)\n",
        "# 這邊開始來訓練模型\n",
        "model = Word2Vec(la)\n"
      ],
      "execution_count": 21,
      "outputs": []
    },
    {
      "cell_type": "code",
      "metadata": {
        "colab": {
          "base_uri": "https://localhost:8080/",
          "height": 359
        },
        "id": "HDCmqAjD8AWv",
        "outputId": "f4bd1677-bf7a-49f2-d55e-b7c0f8c6438b"
      },
      "source": [
        "most_similar(model,['中國'])"
      ],
      "execution_count": 23,
      "outputs": [
        {
          "output_type": "execute_result",
          "data": {
            "text/html": [
              "<div>\n",
              "<style scoped>\n",
              "    .dataframe tbody tr th:only-of-type {\n",
              "        vertical-align: middle;\n",
              "    }\n",
              "\n",
              "    .dataframe tbody tr th {\n",
              "        vertical-align: top;\n",
              "    }\n",
              "\n",
              "    .dataframe thead th {\n",
              "        text-align: right;\n",
              "    }\n",
              "</style>\n",
              "<table border=\"1\" class=\"dataframe\">\n",
              "  <thead>\n",
              "    <tr style=\"text-align: right;\">\n",
              "      <th></th>\n",
              "      <th>中國</th>\n",
              "      <th>cos</th>\n",
              "    </tr>\n",
              "  </thead>\n",
              "  <tbody>\n",
              "    <tr>\n",
              "      <th>0</th>\n",
              "      <td>越南</td>\n",
              "      <td>0.920146</td>\n",
              "    </tr>\n",
              "    <tr>\n",
              "      <th>1</th>\n",
              "      <td>世界</td>\n",
              "      <td>0.871396</td>\n",
              "    </tr>\n",
              "    <tr>\n",
              "      <th>2</th>\n",
              "      <td>越共中央</td>\n",
              "      <td>0.869742</td>\n",
              "    </tr>\n",
              "    <tr>\n",
              "      <th>3</th>\n",
              "      <td>文理科</td>\n",
              "      <td>0.866374</td>\n",
              "    </tr>\n",
              "    <tr>\n",
              "      <th>4</th>\n",
              "      <td>日本</td>\n",
              "      <td>0.862004</td>\n",
              "    </tr>\n",
              "    <tr>\n",
              "      <th>5</th>\n",
              "      <td>阿根廷</td>\n",
              "      <td>0.859431</td>\n",
              "    </tr>\n",
              "    <tr>\n",
              "      <th>6</th>\n",
              "      <td>民主</td>\n",
              "      <td>0.858352</td>\n",
              "    </tr>\n",
              "    <tr>\n",
              "      <th>7</th>\n",
              "      <td>組織</td>\n",
              "      <td>0.852688</td>\n",
              "    </tr>\n",
              "    <tr>\n",
              "      <th>8</th>\n",
              "      <td>中國大陸</td>\n",
              "      <td>0.852260</td>\n",
              "    </tr>\n",
              "    <tr>\n",
              "      <th>9</th>\n",
              "      <td>國際</td>\n",
              "      <td>0.850685</td>\n",
              "    </tr>\n",
              "  </tbody>\n",
              "</table>\n",
              "</div>"
            ],
            "text/plain": [
              "     中國       cos\n",
              "0    越南  0.920146\n",
              "1    世界  0.871396\n",
              "2  越共中央  0.869742\n",
              "3   文理科  0.866374\n",
              "4    日本  0.862004\n",
              "5   阿根廷  0.859431\n",
              "6    民主  0.858352\n",
              "7    組織  0.852688\n",
              "8  中國大陸  0.852260\n",
              "9    國際  0.850685"
            ]
          },
          "metadata": {
            "tags": []
          },
          "execution_count": 23
        }
      ]
    }
  ]
}