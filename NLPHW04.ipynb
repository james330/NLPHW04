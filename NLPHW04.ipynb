{
  "nbformat": 4,
  "nbformat_minor": 0,
  "metadata": {
    "colab": {
      "name": "NLPHW04.ipynb",
      "provenance": [],
      "collapsed_sections": [],
      "mount_file_id": "1DRJOwotL3UFOQRi0ou72nGknqsr8PYvy",
      "authorship_tag": "ABX9TyOnheWsNzDcwkTpK/68qocV",
      "include_colab_link": true
    },
    "kernelspec": {
      "name": "python3",
      "display_name": "Python 3"
    },
    "language_info": {
      "name": "python"
    }
  },
  "cells": [
    {
      "cell_type": "markdown",
      "metadata": {
        "id": "view-in-github",
        "colab_type": "text"
      },
      "source": [
        "<a href=\"https://colab.research.google.com/github/james330/NLPHW04/blob/main/NLPHW04.ipynb\" target=\"_parent\"><img src=\"https://colab.research.google.com/assets/colab-badge.svg\" alt=\"Open In Colab\"/></a>"
      ]
    },
    {
      "cell_type": "code",
      "metadata": {
        "id": "Wu8Dgj1qUdsl"
      },
      "source": [
        "pip install word2vec"
      ],
      "execution_count": null,
      "outputs": []
    },
    {
      "cell_type": "code",
      "metadata": {
        "id": "GWotYxG4rNeO"
      },
      "source": [
        "pip install opencc-python-reimplemented"
      ],
      "execution_count": null,
      "outputs": []
    },
    {
      "cell_type": "code",
      "metadata": {
        "colab": {
          "base_uri": "https://localhost:8080/"
        },
        "id": "yjYPEwrBz_UR",
        "outputId": "1e49abb2-7f83-4ebf-82bd-2eb5c68351d8"
      },
      "source": [
        "pip install jieba"
      ],
      "execution_count": 72,
      "outputs": [
        {
          "output_type": "stream",
          "text": [
            "Requirement already satisfied: jieba in /usr/local/lib/python3.7/dist-packages (0.42.1)\n"
          ],
          "name": "stdout"
        }
      ]
    },
    {
      "cell_type": "code",
      "metadata": {
        "id": "WAZ0NjjFVB6y"
      },
      "source": [
        "import jieba\n",
        "import zipfile as zf\n",
        "import json\n",
        "from opencc import OpenCC\n",
        "import pandas as pd\n",
        "from gensim.models.word2vec import Word2Vec"
      ],
      "execution_count": 90,
      "outputs": []
    },
    {
      "cell_type": "code",
      "metadata": {
        "id": "_QB5ZEBruvmn"
      },
      "source": [
        "# 幫助wikiLoad，將數字轉成對應的英文字母\n",
        "def via_decode(via):\n",
        "  if via == 0:\n",
        "    return 'AA'\n",
        "  elif via == 1:\n",
        "    return 'AB'\n",
        "  elif via == 2:\n",
        "    return 'AC'\n",
        "  elif via == 3:\n",
        "    return 'AD'\n",
        "  elif via == 4:\n",
        "    return 'AE'\n",
        "  elif via == 5:\n",
        "    return 'AF'\n",
        "  elif via == 6:\n",
        "    return 'AG'\n",
        "  elif via == 7:\n",
        "    return 'AH'\n",
        "  elif via == 8:\n",
        "    return 'AI'\n",
        "  elif via == 9:\n",
        "    return 'AJ'\n",
        "  elif via == 10:\n",
        "    return 'AK'\n",
        "  elif via == 11:\n",
        "    return 'AL'\n",
        "  elif via == 12:\n",
        "    return 'AM'  "
      ],
      "execution_count": 44,
      "outputs": []
    },
    {
      "cell_type": "code",
      "metadata": {
        "id": "fc9Cuh3x3gN0"
      },
      "source": [
        "# 幫助wikiLoad，將數字轉成對應的字串\n",
        "def num_decode(num):\n",
        "  if num < 10:\n",
        "    return '0'+ str(num)\n",
        "  else:\n",
        "    return str(num)"
      ],
      "execution_count": 98,
      "outputs": []
    },
    {
      "cell_type": "code",
      "metadata": {
        "id": "Y3o2xlcouMKD"
      },
      "source": [
        "# 寫一個函式，用來讀取檔案\n",
        "def wikiLoad(via ,num): #資料夾，與檔案編號\n",
        "  f = open('./drive/MyDrive/Colab Notebooks/wiki_zh/'+ via_decode(via) +'/wiki_'+ num_decode(num) ,'r')\n",
        "  return f"
      ],
      "execution_count": 101,
      "outputs": []
    },
    {
      "cell_type": "code",
      "metadata": {
        "id": "hBWjkSuR2D9E"
      },
      "source": [
        "# main\n",
        "# 流程: 讀檔->轉成繁體->分詞->塞入模型，如此循環直到讀完檔案或到了要交作業時候 QQ\n",
        "\n",
        "via = 0\n",
        "num = 0\n",
        "while via < 1:  \n",
        "  if num == 2:  \n",
        "    f = wikiLoad(via ,num)  #讀檔\n",
        "    cc = OpenCC('s2tw') #簡體轉台灣繁體\n",
        "    file = cc.convert(f.read())\n",
        "    print(jieba.lcut(file ,cut_all=False))  #分詞\n",
        "    num = 0\n",
        "    via += 1\n",
        "  else:\n",
        "    f = wikiLoad(via ,num)  #讀檔\n",
        "    cc = OpenCC('s2tw') #簡體轉台灣繁體\n",
        "    file = cc.convert(f.read())\n",
        "    print(jieba.lcut(file ,cut_all=False))  #分詞\n",
        "    num += 1\n",
        "  "
      ],
      "execution_count": null,
      "outputs": []
    }
  ]
}