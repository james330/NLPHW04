{
  "nbformat": 4,
  "nbformat_minor": 0,
  "metadata": {
    "colab": {
      "name": "NLPHW02.ipynb",
      "provenance": [],
      "collapsed_sections": [],
      "authorship_tag": "ABX9TyMOKMjSNs7ucDXPvowFciuj",
      "include_colab_link": true
    },
    "kernelspec": {
      "name": "python3",
      "display_name": "Python 3"
    },
    "language_info": {
      "name": "python"
    }
  },
  "cells": [
    {
      "cell_type": "markdown",
      "metadata": {
        "id": "view-in-github",
        "colab_type": "text"
      },
      "source": [
        "<a href=\"https://colab.research.google.com/github/james330/NLPHW04/blob/main/NLPHW02.ipynb\" target=\"_parent\"><img src=\"https://colab.research.google.com/assets/colab-badge.svg\" alt=\"Open In Colab\"/></a>"
      ]
    },
    {
      "cell_type": "code",
      "metadata": {
        "colab": {
          "base_uri": "https://localhost:8080/"
        },
        "id": "AFVXShNTtJuW",
        "outputId": "d75421c2-dd21-4a7f-b6a4-1fffeeb0a5b6"
      },
      "source": [
        "pip install beautifulsoup4"
      ],
      "execution_count": null,
      "outputs": [
        {
          "output_type": "stream",
          "text": [
            "Requirement already satisfied: beautifulsoup4 in /usr/local/lib/python3.7/dist-packages (4.6.3)\n"
          ],
          "name": "stdout"
        }
      ]
    },
    {
      "cell_type": "code",
      "metadata": {
        "id": "ryYwa1K2sfv5"
      },
      "source": [
        "import urllib.request as req\n",
        "import bs4"
      ],
      "execution_count": null,
      "outputs": []
    },
    {
      "cell_type": "code",
      "metadata": {
        "id": "RIQMQmfMegcn"
      },
      "source": [
        "# 下載網頁的 function，輸入的值是 00001~11461\n",
        "def downLaod(url):  #00001~11461\n",
        " res = \"https://movies.yahoo.com.tw/movieinfo_main/\" + str(url)\n",
        " req.urlretrieve(res, './data/movie_url.csv')\n",
        " return res"
      ],
      "execution_count": null,
      "outputs": []
    },
    {
      "cell_type": "code",
      "metadata": {
        "id": "aGycwKpgrasL"
      },
      "source": [
        "# 解析內容的 function，輸入為 downLoad() 的回傳值\n",
        "def deCode(url):\n",
        "  with req.urlopen(url) as response:\n",
        "    data = response.read().decode(\"utf-8\")\n",
        "  return data"
      ],
      "execution_count": null,
      "outputs": []
    },
    {
      "cell_type": "code",
      "metadata": {
        "id": "NA8mQ-DGecFV"
      },
      "source": [
        "# main\n",
        "movieSet = []\n",
        "movieLevel = []\n",
        "movie = []  #[名稱，分類，上映日期，劇情介紹]"
      ],
      "execution_count": null,
      "outputs": []
    },
    {
      "cell_type": "code",
      "metadata": {
        "id": "bThiceE0hqDx"
      },
      "source": [
        "# 從 0 斷斷續續的跑到 7000\n",
        "i = 6000\n",
        "while i < 7000:\n",
        "  url = downLaod(i) \n",
        "  root = bs4.BeautifulSoup(deCode(url) ,\"html.parser\")\n",
        "  title = root.title.string #電影名稱\n",
        "  if title == 'Yahoo奇摩電影':\n",
        "    i += 1\n",
        "  else:\n",
        "    movie.append(title[:-11])\n",
        "\n",
        "    level_name = root.find_all(\"div\" ,class_ = \"level_name\")  #分類\n",
        "    for l in level_name:\n",
        "      if l.a != None:\n",
        "        movieLevel.append(l.a.string[2:])\n",
        "    movie.append(movieLevel)\n",
        "    movieLevel = []\n",
        "\n",
        "    movieTime = root.find_all(\"div\" ,class_ = \"movie_intro_info_r\") #上映日期\n",
        "    for m in movieTime:\n",
        "      movie.append(m.span.string)\n",
        "\n",
        "    story = root.find_all(\"div\" ,class_ = \"gray_infobox_inner\") #劇情介紹\n",
        "    for s in story:\n",
        "      s = str(s.span)\n",
        "      movie.append(s[18:-8])\n",
        "\n",
        "    movieSet.append(movie)\n",
        "    movie = []\n",
        "    i += 1"
      ],
      "execution_count": null,
      "outputs": []
    },
    {
      "cell_type": "code",
      "metadata": {
        "colab": {
          "base_uri": "https://localhost:8080/"
        },
        "id": "gvqPvZa5e_ks",
        "outputId": "c8e03cd5-085b-4b01-ff73-76ab0124f391"
      },
      "source": [
        "print(len(movieSet))"
      ],
      "execution_count": null,
      "outputs": [
        {
          "output_type": "stream",
          "text": [
            "6036\n"
          ],
          "name": "stdout"
        }
      ]
    },
    {
      "cell_type": "code",
      "metadata": {
        "colab": {
          "base_uri": "https://localhost:8080/"
        },
        "id": "3A09TyMImI1V",
        "outputId": "280e32cd-5c23-4f00-f620-81b010df7b06"
      },
      "source": [
        "print(movieSet[-1])"
      ],
      "execution_count": null,
      "outputs": [
        {
          "output_type": "stream",
          "text": [
            "['代立軍 Warriors of The Dawn ', ['                   劇情\\n                  '], '上映日期：2017-07-07', '            ★ 實景拍攝，戰爭場面逼真震']\n"
          ],
          "name": "stdout"
        }
      ]
    },
    {
      "cell_type": "code",
      "metadata": {
        "id": "Al3bdVvuRGBs"
      },
      "source": [
        "import pandas as pd\n",
        "\n",
        "test = pd.DataFrame(data = movieSet)\n",
        "test.to_csv('./data/movie.csv')"
      ],
      "execution_count": null,
      "outputs": []
    },
    {
      "cell_type": "code",
      "metadata": {
        "id": "BvzSFdWGyrCS"
      },
      "source": [
        "# 下載網頁\n",
        "url = downLaod(1)"
      ],
      "execution_count": null,
      "outputs": []
    },
    {
      "cell_type": "code",
      "metadata": {
        "id": "CNhJZrSVkjQU"
      },
      "source": [
        "# 解析內容(1)\n",
        "deCode(url)"
      ],
      "execution_count": null,
      "outputs": []
    },
    {
      "cell_type": "code",
      "metadata": {
        "id": "kOR1dKlmjK-9"
      },
      "source": [
        "# 找 movieinfo_main 電影連結\n",
        "# 一個Array放未尋訪\n",
        "# 一個Array放已尋訪\n",
        "# 已尋訪的資料中，要有電影名稱、分類、劇情介紹、上映日期\n",
        "# 分類要保留排序\n",
        "\n",
        "# 電影連結:https://movies.yahoo.com.tw/movieinfo_main/00001~11461\n",
        "# 電影名稱:<title>XXXX - Yahoo奇摩電影</title>\n",
        "# 分類:['電影介紹','電影介紹_類型icon','XX']\n",
        "# 劇情介紹:<span id='story'>XXX</p></span>\n",
        "# 上映日期:<span>上映日期：XXXX</span>\n",
        "\n"
      ],
      "execution_count": null,
      "outputs": []
    }
  ]
}